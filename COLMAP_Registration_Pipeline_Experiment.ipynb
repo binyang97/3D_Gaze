{
 "cells": [
  {
   "cell_type": "code",
   "execution_count": 1,
   "id": "84633162",
   "metadata": {},
   "outputs": [
    {
     "name": "stdout",
     "output_type": "stream",
     "text": [
      "Jupyter environment detected. Enabling Open3D WebVisualizer.\n",
      "[Open3D INFO] WebRTC GUI backend enabled.\n",
      "[Open3D INFO] WebRTCWindowSystem: HTTP handshake server disabled.\n"
     ]
    }
   ],
   "source": [
    "from sys import platform\n",
    "import os\n",
    "import cv2\n",
    "import json\n",
    "from pupil_apriltags import Detector\n",
    "import open3d as o3d\n",
    "from glob import glob\n",
    "import numpy as np\n",
    "from scipy.spatial.transform import Rotation as R\n",
    "import collections\n",
    "import k3d\n",
    "import PoseEstimation.Mesh_Matcher"
   ]
  },
  {
   "cell_type": "code",
   "execution_count": 2,
   "id": "9ead08ac",
   "metadata": {},
   "outputs": [],
   "source": [
    "from math import pi\n",
    "def position_error(T_e, T_gt):\n",
    "\n",
    "    return np.linalg.norm(T_e- T_gt)\n",
    "\n",
    "\n",
    "def rotation_error(R_e, R_gt):\n",
    "    \n",
    "    return (180/pi) * np.arccos((np.trace(np.matmul(R_e, R_gt.T))-1)/2)"
   ]
  },
  {
   "cell_type": "code",
   "execution_count": 3,
   "id": "38ac1001",
   "metadata": {},
   "outputs": [],
   "source": [
    "def k3d_frustrum(pose, name, size=0.009, color=0x0000ff):\n",
    "    # i.e. not using image sizes \n",
    "    pos = pose[:3, 3]\n",
    "    \n",
    "    forward = -pose[:3, 2] * size * -1.4\n",
    "    right = -pose[:3, 0] * size * 1.25\n",
    "    up = -pose[:3, 1] * size\n",
    "    \n",
    "    #verts = [pos, pos + forward*size ]\n",
    "    verts = [pos, pos + forward - right*0.5 + up*0.5, pos + forward + right * 0.5 + up * 0.5, pos ]\n",
    "    verts += [pos, pos + forward - right*0.5 - up*0.5, pos + forward + right * 0.5 - up * 0.5, pos ]\n",
    "    verts += [pos, pos + forward - right*0.5 + up*0.5, pos + forward - right * 0.5 - up * 0.5, pos]\n",
    "    verts += [pos, pos + forward + right*0.5 + up*0.5, pos + forward + right * 0.5 - up * 0.5, pos]\n",
    "    return k3d.line(verts, color=color, width=2.5, name = name, shader=\"simple\")\n",
    "\n",
    "def visualization_registration(reg, mesh):\n",
    "    vertices = [ ]\n",
    "\n",
    "    frustrums = []\n",
    "\n",
    "    colors = [0xff0000, 0x00ff00, 0x0000ff, 0xffcc00, 0xccff00, 0x00ccff]\n",
    "\n",
    "    for i, frame in enumerate(reg.keys()):\n",
    "        pos = reg[frame][:3, 3] \n",
    "        vertices += pos.tolist()\n",
    "        frustrums.append( k3d_frustrum(reg[frame], name = str(frame), size=0.1, color=colors[i % len(colors)]) )\n",
    "\n",
    "    vertices = np.array(vertices)\n",
    "\n",
    "    lines = k3d.line(vertices, color=0xff0000, width=2.5, shader=\"simple\") # + line\n",
    "    pts = k3d.points(vertices, point_size=0.003)\n",
    "\n",
    "    plot3d = k3d.plot(antialias=True, camera_auto_fit=True)\n",
    "\n",
    "    #plot3d += lines\n",
    "    plot3d += pts \n",
    "\n",
    "    for f in frustrums:\n",
    "        plot3d += f\n",
    "\n",
    "    plot3d += k3d.points( [vertices[:3]], point_size=0.0075, color=0x00ff00)\n",
    "\n",
    "    plot3d += k3d.mesh(np.array(mesh.vertices), np.array(mesh.triangles).flatten(), color=0xffcc00)\n",
    "    plot3d.display()\n",
    "\n",
    "at_detector = Detector(\n",
    "            families=\"tagStandard41h12\",\n",
    "            nthreads=1,\n",
    "            quad_decimate=1.0,\n",
    "            quad_sigma=0.0,\n",
    "            refine_edges=1,\n",
    "            decode_sharpening=0.25,\n",
    "            debug=0,\n",
    "        )\n",
    "\n",
    "\n",
    "Register = collections.namedtuple(\n",
    "    \"RegisterInfo\", [\"CameraPose\", \"Intrinsic\", \"TagPose\"])\n"
   ]
  },
  {
   "cell_type": "code",
   "execution_count": 4,
   "id": "898bf8c3",
   "metadata": {
    "scrolled": true
   },
   "outputs": [],
   "source": [
    "if platform == \"linux\" or platform == \"linux2\":  \n",
    "# linux\n",
    "    data_path  = \"/home/biyang/Documents/3D_Gaze/dataset/3D_scanner_app/Apriltag1_dataset1\"\n",
    "    data_pi_path = \"/home/biyang/Documents/3D_Gaze/dataset/PupilInvisible/office1/data_1\"\n",
    "    evaluation_json_path = r\"/home/biyang/Documents/3D_Gaze/dataset/PupilInvisible/evaluation_apriltag_detection_Iphone.json\"\n",
    "elif platform == \"win32\":\n",
    "# Windows...\n",
    "    data_path = r\"D:\\Documents\\Semester_Project\\3D_Gaze\\dataset\\3D_Scanner_App\\Apriltag1_dataset1\"\n",
    "    data_pi_path = r\"D:\\Documents\\Semester_Project\\3D_Gaze\\dataset\\PupilInvisible\\office1\\data_1\"\n",
    "    evaluation_json_path = r\"D:\\Documents\\Semester_Project\\3D_Gaze\\dataset\\evaluation_apriltag_detection_Iphone_a1d1.json\"\n"
   ]
  },
  {
   "cell_type": "code",
   "execution_count": 5,
   "id": "605973af",
   "metadata": {
    "scrolled": false
   },
   "outputs": [
    {
     "name": "stdout",
     "output_type": "stream",
     "text": [
      "Passed\n",
      "Passed\n",
      "Passed\n",
      "Passed\n",
      "Passed\n",
      "Passed\n"
     ]
    }
   ],
   "source": []
  },
  {
   "cell_type": "code",
   "execution_count": 6,
   "id": "9aaddf33",
   "metadata": {},
   "outputs": [],
   "source": [
    "pos_error = []\n",
    "rot_error = []\n",
    "for gt_pose, est_pose in zip(GT_CameraPose.values(), IPhone_Registration.values()):\n",
    "    pos_error.append(position_error(est_pose[:3, 3], gt_pose[:3, 3]))\n",
    "    rot_error.append(rotation_error(est_pose[:3, :3], gt_pose[:3, :3]))\n"
   ]
  },
  {
   "cell_type": "code",
   "execution_count": 12,
   "id": "4d607696",
   "metadata": {},
   "outputs": [
    {
     "name": "stdout",
     "output_type": "stream",
     "text": [
      "[0.4083566926725213, 0.4019291218919338, 0.38849037585498103, 0.3179002427648748, 0.17195424301140128, 0.11458310610614114, 0.14301039197887933, 0.022714978658934494, 0.6297980737814189, 0.6552598802543246, 0.7307978960767659, 0.8091163774747812, 0.8676330072610149, 0.8760745025839376, 0.9575329461968345, 0.9874435095169811, 1.0452871353042466, 1.0755181084883743, 1.1233902567194112, 1.1597960564759109, 0.060254736393963046, 0.0716734155875048, 0.12122319913206606, 0.1498385274470514, 0.16208966344672893, 0.18995614177565434, 0.19998547469113256, 0.20044754530162393, 0.23646957514635358, 2.6106487057365686, 2.619049988957643, 2.6365642349417837, 0.7218254377285517, 0.6183800254919476, 0.39066947748013303, 1.9307558123797426, 0.6714375587603891, 1.709616233650727]\n",
      "0.741775596240085\n"
     ]
    }
   ],
   "source": [
    "print(pos_error)\n",
    "\n",
    "print(sum(pos_error)/len(pos_error))"
   ]
  },
  {
   "cell_type": "code",
   "execution_count": 11,
   "id": "e47c399a",
   "metadata": {},
   "outputs": [
    {
     "name": "stdout",
     "output_type": "stream",
     "text": [
      "[7.36927478990779, 7.187212157400475, 7.115298311392832, 6.261001362692682, 3.9361325580072655, 1.9489432525297643, 3.2921470266853063, 0.9753621536041962, 10.96642390395527, 10.455888527461664, 8.952275416433888, 7.628594003444916, 7.443266153672563, 8.12870438897756, 7.440157897565868, 7.729102133388627, 8.647531289409653, 7.000740773123268, 8.05635237001087, 9.879733784407085, 1.3850683352572002, 3.1138184356959884, 4.581211794640418, 4.727277382194506, 4.557758585460071, 5.460402817512808, 6.205918044248811, 6.7300659156342375, 7.04010462180643, 90.00804364895187, 90.03090195805373, 90.07239123681987, 11.47318425571363, 11.34330534303244, 11.385697549881717, 13.840148057493119, 7.4777019939761376, 19.630427428189975]\n",
      "13.933620254174592\n"
     ]
    }
   ],
   "source": [
    "print(rot_error)\n",
    "\n",
    "print(sum(rot_error)/len(rot_error))"
   ]
  },
  {
   "cell_type": "code",
   "execution_count": 18,
   "id": "167d6c5b",
   "metadata": {},
   "outputs": [],
   "source": [
    "mesh_textured = o3d.io.read_triangle_mesh(mesh_fullpath)"
   ]
  },
  {
   "cell_type": "code",
   "execution_count": 15,
   "id": "2a8ba2c7",
   "metadata": {
    "scrolled": false
   },
   "outputs": [
    {
     "name": "stderr",
     "output_type": "stream",
     "text": [
      "d:\\Users\\ybMas\\anaconda3\\envs\\apriltag\\lib\\site-packages\\traittypes\\traittypes.py:101: UserWarning: Given trait value dtype \"float64\" does not match required type \"float32\". A coerced copy has been created.\n",
      "  np.dtype(self.dtype).name))\n",
      "d:\\Users\\ybMas\\anaconda3\\envs\\apriltag\\lib\\site-packages\\traittypes\\traittypes.py:101: UserWarning: Given trait value dtype \"int32\" does not match required type \"uint32\". A coerced copy has been created.\n",
      "  np.dtype(self.dtype).name))\n"
     ]
    },
    {
     "data": {
      "application/vnd.jupyter.widget-view+json": {
       "model_id": "bf664837df8245c8a2082d7f2737af61",
       "version_major": 2,
       "version_minor": 0
      },
      "text/plain": [
       "Output()"
      ]
     },
     "metadata": {},
     "output_type": "display_data"
    }
   ],
   "source": [
    "# Visualization of Camera Pose\n",
    "#visualization_registration(PI_registration, mesh_textured)\n",
    "visualization_registration(GT_CameraPose, mesh_textured)"
   ]
  },
  {
   "cell_type": "code",
   "execution_count": 20,
   "id": "b10adfcb",
   "metadata": {},
   "outputs": [
    {
     "name": "stdout",
     "output_type": "stream",
     "text": [
      "[Open3D WARNING] GLFW Error: WGL: Failed to make context current: Der angeforderte Transformationsvorgang wird nicht unterstützt. \n",
      "[Open3D WARNING] GLFW Error: WGL: Failed to make context current: Das Handle ist ungültig. \n",
      "[Open3D WARNING] GLFW Error: WGL: Failed to make context current: Das Handle ist ungültig. \n",
      "[Open3D WARNING] GLFW Error: WGL: Failed to make context current: Der angeforderte Transformationsvorgang wird nicht unterstützt. \n",
      "[Open3D WARNING] GLFW Error: WGL: Failed to make context current: Das Handle ist ungültig. \n",
      "[Open3D WARNING] GLFW Error: WGL: Failed to make context current: Der angeforderte Transformationsvorgang wird nicht unterstützt. \n",
      "[Open3D WARNING] GLFW Error: WGL: Failed to make context current: Der angeforderte Transformationsvorgang wird nicht unterstützt. \n",
      "[Open3D WARNING] GLFW Error: WGL: Failed to make context current: Der angeforderte Transformationsvorgang wird nicht unterstützt. \n"
     ]
    }
   ],
   "source": [
    "pcd_sample = mesh_textured.sample_points_uniformly(number_of_points=10000)\n",
    "o3d.visualization.draw_geometries([pcd_sample])"
   ]
  }
 ],
 "metadata": {
  "kernelspec": {
   "display_name": "apriltag",
   "language": "python",
   "name": "python3"
  },
  "language_info": {
   "codemirror_mode": {
    "name": "ipython",
    "version": 3
   },
   "file_extension": ".py",
   "mimetype": "text/x-python",
   "name": "python",
   "nbconvert_exporter": "python",
   "pygments_lexer": "ipython3",
   "version": "3.7.16"
  },
  "vscode": {
   "interpreter": {
    "hash": "2a8feb97a30f0c0881f8e9b0bc542abf8861c7a1cbabf22b5193b3eb6b79469f"
   }
  }
 },
 "nbformat": 4,
 "nbformat_minor": 5
}
