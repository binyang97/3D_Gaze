{
 "cells": [
  {
   "cell_type": "code",
   "execution_count": 2,
   "id": "84633162",
   "metadata": {},
   "outputs": [],
   "source": [
    "from sys import platform\n",
    "import os\n",
    "import cv2\n",
    "import json\n",
    "from pupil_apriltags import Detector\n",
    "from glob import glob\n",
    "import numpy as np\n",
    "from scipy.spatial.transform import Rotation as R\n",
    "import matplotlib.pyplot as plt\n"
   ]
  },
  {
   "cell_type": "code",
   "execution_count": 3,
   "id": "9ead08ac",
   "metadata": {},
   "outputs": [],
   "source": [
    "from math import pi\n",
    "def position_error(T_e, T_gt):\n",
    "\n",
    "    return np.linalg.norm(T_e- T_gt)\n",
    "\n",
    "\n",
    "def rotation_error(R_e, R_gt):\n",
    "    \n",
    "    return (180/pi) * np.arccos((np.trace(np.matmul(R_e, R_gt.T))-1)/2)"
   ]
  },
  {
   "cell_type": "code",
   "execution_count": 4,
   "id": "38ac1001",
   "metadata": {},
   "outputs": [],
   "source": [
    "if platform == \"linux\" or platform == \"linux2\":  \n",
    "# linux\n",
    "    data_path  = \"/home/biyang/Documents/3D_Gaze/dataset/3D_scanner_app/Apriltag1_dataset1\"\n",
    "    data_pi_path = \"/home/biyang/Documents/3D_Gaze/dataset/PupilInvisible/office1/data_1\"\n",
    "elif platform == \"win32\":\n",
    "# Windows...\n",
    "    data_path = r\"D:\\Documents\\Semester_Project\\3D_Gaze\\dataset\\3D_Scanner_App\\Apriltag1_dataset1\"\n",
    "    data_pi_path = r\"D:\\Documents\\Semester_Project\\3D_Gaze\\dataset\\PupilInvisible\\office1\\data_1\"\n",
    "\n",
    "\n",
    "    \n",
    "DATA = \"IPHONE\" # \"PI\" or \"IPHONE\"\n",
    "\n",
    "Evaluation = {}\n",
    "\n",
    "at_detector = Detector(\n",
    "        families=\"tagStandard41h12\",\n",
    "        nthreads=1,\n",
    "        quad_decimate=1.0,\n",
    "        quad_sigma=0.0,\n",
    "        refine_edges=1,\n",
    "        decode_sharpening=0.25,\n",
    "        debug=0,\n",
    "    )\n",
    "\n",
    "if DATA == \"IPHONE\":\n",
    "\n",
    "    images_path = os.path.join(data_path, \"frames\")\n",
    "    pose_path = os.path.join(data_path, \"pose\")\n",
    "    mesh_fullpath = os.path.join(data_path, \"data3d/textured_output.obj\")\n",
    "    depth_path = os.path.join(data_path, \"depth\")\n",
    "\n",
    "elif DATA == \"PI\":\n",
    "    data_path = data_pi_path\n",
    "    images_path = os.path.join(data_path, \"images_undistorted\")\n",
    "\n",
    "tag_sizes = np.arange(0.01, 0.15, 0.01)\n"
   ]
  },
  {
   "cell_type": "code",
   "execution_count": 6,
   "id": "898bf8c3",
   "metadata": {
    "scrolled": true
   },
   "outputs": [
    {
     "ename": "IndexError",
     "evalue": "list index out of range",
     "output_type": "error",
     "traceback": [
      "\u001b[1;31m---------------------------------------------------------------------------\u001b[0m",
      "\u001b[1;31mIndexError\u001b[0m                                Traceback (most recent call last)",
      "\u001b[1;32m~\\AppData\\Local\\Temp\\ipykernel_13580\\2065812702.py\u001b[0m in \u001b[0;36m<module>\u001b[1;34m\u001b[0m\n\u001b[0;32m     58\u001b[0m \u001b[1;33m\u001b[0m\u001b[0m\n\u001b[0;32m     59\u001b[0m         \u001b[1;31m# Test with only one tag\u001b[0m\u001b[1;33m\u001b[0m\u001b[1;33m\u001b[0m\u001b[1;33m\u001b[0m\u001b[0m\n\u001b[1;32m---> 60\u001b[1;33m         \u001b[0mtag_test\u001b[0m \u001b[1;33m=\u001b[0m \u001b[0mtags\u001b[0m\u001b[1;33m[\u001b[0m\u001b[1;33m-\u001b[0m\u001b[1;36m1\u001b[0m\u001b[1;33m]\u001b[0m\u001b[1;33m\u001b[0m\u001b[1;33m\u001b[0m\u001b[0m\n\u001b[0m\u001b[0;32m     61\u001b[0m         \u001b[0mtag_id\u001b[0m \u001b[1;33m=\u001b[0m \u001b[0mtag_test\u001b[0m\u001b[1;33m.\u001b[0m\u001b[0mtag_id\u001b[0m\u001b[1;33m\u001b[0m\u001b[1;33m\u001b[0m\u001b[0m\n\u001b[0;32m     62\u001b[0m \u001b[1;33m\u001b[0m\u001b[0m\n",
      "\u001b[1;31mIndexError\u001b[0m: list index out of range"
     ]
    }
   ],
   "source": [
    "if DATA == \"IPHONE\":\n",
    "\n",
    "    images_path = os.path.join(data_path, \"frames\")\n",
    "    pose_path = os.path.join(data_path, \"pose\")\n",
    "    mesh_fullpath = os.path.join(data_path, \"data3d/textured_output.obj\")\n",
    "    depth_path = os.path.join(data_path, \"depth\")\n",
    "\n",
    "elif DATA == \"PI\":\n",
    "    data_path = data_pi_path\n",
    "    images_path = os.path.join(data_path, \"images_undistorted\")\n",
    "\n",
    "images_files = os.listdir(images_path)\n",
    "images_files.sort()\n",
    "\n",
    "visualization = {}\n",
    "\n",
    "for i, image_file in enumerate(images_files):\n",
    "    # if i%5 != 0:\n",
    "    #     continue\n",
    "\n",
    "    if len(visualization.keys()) == 6:\n",
    "        break\n",
    "    if DATA == \"PI\":\n",
    "        img_id = image_file.split(\".\")[0]\n",
    "        \n",
    "    elif DATA == \"IPHONE\":\n",
    "        img_id = image_file[6:11]\n",
    "\n",
    "    img = cv2.imread(os.path.join(images_path, image_file), cv2.IMREAD_GRAYSCALE)\n",
    "    color_img = cv2.cvtColor(img, cv2.COLOR_GRAY2BGR)\n",
    "\n",
    "    if DATA == \"IPHONE\":\n",
    "    \n",
    "        camera_param_file = image_file.replace(\".jpg\", \".json\")\n",
    "        with open(os.path.join(pose_path, camera_param_file), 'r') as f:\n",
    "            camera_param = json.load(f)\n",
    "\n",
    "        intrinsics = np.array(camera_param[\"intrinsics\"]).reshape(3, 3)\n",
    "\n",
    "        projectionMatrix = np.array(camera_param[\"projectionMatrix\"]).reshape(4, 4)\n",
    "\n",
    "    elif DATA == \"PI\":\n",
    "        intrinsics = np.array([[766.2927454396544, 0.0, 543.6272327745995],\n",
    "                            [0.0, 766.3976103393867, 566.0580149497666],\n",
    "                            [0.0, 0.0, 1.0]])\n",
    "\n",
    "        projectionMatrix = np.eye(4)\n",
    "        \n",
    "    fxfycxcy= [intrinsics[0, 0], intrinsics[1, 1], intrinsics[0, 2], intrinsics[1, 2]]\n",
    "    principal_point = np.array([intrinsics[0, 2], intrinsics[1, 2]])\n",
    "    focal_length = (intrinsics[0, 0] + intrinsics[1, 1]) / 2    \n",
    "\n",
    "    true_distances = []\n",
    "    \n",
    "    for tag_size in tag_sizes:   \n",
    "            \n",
    "        tags = at_detector.detect(img, estimate_tag_pose=True, camera_params = fxfycxcy, tag_size=tag_size)\n",
    "        if len(tags == 0):\n",
    "            break\n",
    "\n",
    "        # Test with only one tag\n",
    "        tag_test = tags[-1]\n",
    "        tag_id = tag_test.tag_id\n",
    "\n",
    "        if tag_id in visualization.keys():\n",
    "            break\n",
    "        \n",
    "            \n",
    "        tag_position = np.array(tag_test.pose_t)\n",
    "        tag_cam_distance = np.linalg.norm(tag_position)\n",
    "        true_distances.append(tag_cam_distance)\n",
    "\n",
    "    true_distances = np.array(true_distances).reshape(-1, len(tags))\n",
    "    visualization[tag_id] = {\"img_id\":img_id, \"dist\":true_distances}"
   ]
  },
  {
   "cell_type": "code",
   "execution_count": null,
   "id": "8af6f097",
   "metadata": {},
   "outputs": [],
   "source": [
    "for "
   ]
  }
 ],
 "metadata": {
  "kernelspec": {
   "display_name": "apriltag",
   "language": "python",
   "name": "python3"
  },
  "language_info": {
   "codemirror_mode": {
    "name": "ipython",
    "version": 3
   },
   "file_extension": ".py",
   "mimetype": "text/x-python",
   "name": "python",
   "nbconvert_exporter": "python",
   "pygments_lexer": "ipython3",
   "version": "3.7.16"
  },
  "vscode": {
   "interpreter": {
    "hash": "2a8feb97a30f0c0881f8e9b0bc542abf8861c7a1cbabf22b5193b3eb6b79469f"
   }
  }
 },
 "nbformat": 4,
 "nbformat_minor": 5
}
